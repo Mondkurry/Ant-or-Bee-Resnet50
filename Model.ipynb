{
 "cells": [
  {
   "cell_type": "markdown",
   "metadata": {},
   "source": [
    "## How transfer learning works:\n",
    "<b>Part 1:</b> Train the Backbone\n",
    "1. Train a CNN (for example Resnet) on a large scale dataset like ImageNet where it learns how to create useful feature maps.\n",
    "    - This reduces image dimensions and increases the number of channels\n",
    "2. Do some pooling on the feature maps, then flatten and input into fully connected layers that predict the 1000 categories of ImageNet\n",
    "\n",
    "<b>Part 2:</b> Use Backbone to form final model.\n",
    "1. Get rid of the last layer that predicts the 1000 categories of ImageNet and instead make the output just the number of neurons you need.\n",
    "2. You can freeze the weights of the convolutional layers, if you do then this is called the feature extraction method.\n",
    "3. Retrain on your data so the final fully connected layers improve.\n"
   ]
  },
  {
   "cell_type": "code",
   "execution_count": null,
   "metadata": {},
   "outputs": [],
   "source": []
  }
 ],
 "metadata": {
  "kernelspec": {
   "display_name": "Python 3",
   "language": "python",
   "name": "python3"
  },
  "language_info": {
   "codemirror_mode": {
    "name": "ipython",
    "version": 3
   },
   "file_extension": ".py",
   "mimetype": "text/x-python",
   "name": "python",
   "nbconvert_exporter": "python",
   "pygments_lexer": "ipython3",
   "version": "3.11.5"
  },
  "orig_nbformat": 4
 },
 "nbformat": 4,
 "nbformat_minor": 2
}
